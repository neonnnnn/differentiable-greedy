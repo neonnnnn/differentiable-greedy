{
 "cells": [
  {
   "cell_type": "markdown",
   "id": "2f919734-5acd-41ca-afb3-9c4b3121cc49",
   "metadata": {},
   "source": [
    "## Testing Submodular Function Maximization Algorithms"
   ]
  },
  {
   "cell_type": "code",
   "execution_count": 2,
   "id": "5482ca09-56c7-4c9a-96aa-467f40e0eac5",
   "metadata": {},
   "outputs": [
    {
     "data": {
      "text/plain": [
       "<torch._C.Generator at 0xffffa619bd90>"
      ]
     },
     "execution_count": 2,
     "metadata": {},
     "output_type": "execute_result"
    }
   ],
   "source": [
    "import torch\n",
    "from src.constraint import Cardinality, PartitionMatroid\n",
    "from src.dataset import MovieLensDataset\n",
    "from src.selector import (\n",
    "    FWSelector,\n",
    "    GreedySelector,\n",
    "    RandomSelector,\n",
    "    SGASelector,\n",
    "    SmoothedGreedySelector,\n",
    ")\n",
    "from src.utility import InfluenceUtility\n",
    "\n",
    "torch.manual_seed(0)"
   ]
  },
  {
   "cell_type": "code",
   "execution_count": 3,
   "id": "e6f3e36f-dc8e-466b-85b3-89cff63af577",
   "metadata": {},
   "outputs": [],
   "source": [
    "N_INSTANCES = 1\n",
    "N_MOVIES = 100\n",
    "N_USERS = 500\n",
    "RANDOM_STATE = 42\n",
    "DATA_DIR = \"./ml-100k-data\"\n",
    "DATA_ZIP_PATH = f\"{DATA_DIR}/ml-100k.zip\"\n",
    "EXTRACTED_PATH = f\"{DATA_DIR}/ml-100k\""
   ]
  },
  {
   "cell_type": "code",
   "execution_count": 4,
   "id": "eaed84d3-0da8-4914-8097-26801e83804e",
   "metadata": {},
   "outputs": [
    {
     "name": "stdout",
     "output_type": "stream",
     "text": [
      "Dataset already exists.\n",
      "Num Movies: 1682, Num Users: 943, Num Ratings:100000\n"
     ]
    },
    {
     "name": "stderr",
     "output_type": "stream",
     "text": [
      "  0%|          | 0/1 [00:00<?, ?it/s]"
     ]
    },
    {
     "name": "stderr",
     "output_type": "stream",
     "text": [
      "100%|██████████| 1/1 [00:00<00:00, 50.65it/s]"
     ]
    },
    {
     "name": "stdout",
     "output_type": "stream",
     "text": [
      "tensor(227.)\n"
     ]
    },
    {
     "name": "stderr",
     "output_type": "stream",
     "text": [
      "\n"
     ]
    }
   ],
   "source": [
    "dataset = MovieLensDataset(\n",
    "    DATA_DIR,\n",
    "    DATA_ZIP_PATH,\n",
    "    n_instances=N_INSTANCES,\n",
    "    n_movies=N_MOVIES,\n",
    "    n_users=N_USERS,\n",
    "    random_state=RANDOM_STATE,\n",
    ")\n",
    "print(dataset.theta.sum())"
   ]
  },
  {
   "cell_type": "code",
   "execution_count": 5,
   "id": "70dcd34a-806d-47e8-9fac-87ab857d12f2",
   "metadata": {},
   "outputs": [
    {
     "data": {
      "text/plain": [
       "torch.Size([100, 500, 43])"
      ]
     },
     "execution_count": 5,
     "metadata": {},
     "output_type": "execute_result"
    }
   ],
   "source": [
    "dataset[0][0].shape"
   ]
  },
  {
   "cell_type": "markdown",
   "id": "83324ca7-d09c-4aaa-91f6-12f52429b40e",
   "metadata": {},
   "source": [
    "## Under the Cardinality Constraint"
   ]
  },
  {
   "cell_type": "markdown",
   "id": "a421f02a-e6e0-48ec-873d-f9a637314dd0",
   "metadata": {},
   "source": [
    "### Greedy, SGA, FW, and SmoothedGreedy perform similarly and are better than Random"
   ]
  },
  {
   "cell_type": "code",
   "execution_count": 6,
   "id": "cf81eb11-2587-44cc-9894-5a5414c9aed2",
   "metadata": {},
   "outputs": [],
   "source": [
    "def eval_all(theta: torch.Tensor, utility, constraint):\n",
    "    torch.manual_seed(RANDOM_STATE)\n",
    "    random = RandomSelector(utility, constraint)\n",
    "    S = random(theta)\n",
    "    print(f\"    Random: {torch.mean(utility(S)).item():.3f}\")\n",
    "\n",
    "    greedy = GreedySelector(utility, constraint)\n",
    "    S = greedy(theta)\n",
    "    print(f\"    Greedy: {torch.mean(utility(S)).item():.3f}\")\n",
    "\n",
    "    sga = SGASelector(utility, constraint, max_epochs=20)\n",
    "    S = sga(theta)\n",
    "    print(f\"       SGA: {torch.mean(utility(S)).item():.3f}\")\n",
    "\n",
    "    fw = FWSelector(utility, constraint, delta=0.05)\n",
    "    S = fw(theta)\n",
    "    print(f\"        FW: {torch.mean(utility(S)).item():.3f}\")\n",
    "\n",
    "    smooth_greedy = SmoothedGreedySelector(utility, constraint, epsilon=0.1)\n",
    "    smooth_greedy.eval()\n",
    "    S = smooth_greedy(theta)\n",
    "    print(f\"   SmoothG: {torch.mean(utility(S)).item():.3f}\")"
   ]
  },
  {
   "cell_type": "code",
   "execution_count": 7,
   "id": "8fd862eb-4fa5-4ae3-aca0-eaa6426159a8",
   "metadata": {},
   "outputs": [],
   "source": [
    "theta = dataset.theta"
   ]
  },
  {
   "cell_type": "code",
   "execution_count": 8,
   "id": "57ad564e-7d97-479e-b425-fa9c2d9eeae2",
   "metadata": {},
   "outputs": [
    {
     "name": "stdout",
     "output_type": "stream",
     "text": [
      "----- k = 5 -----\n",
      "    Random: 32.694\n",
      "    Greedy: 74.960\n",
      "       SGA: 74.960\n",
      "        FW: 74.960\n",
      "   SmoothG: 74.960\n",
      "----- k = 10 -----\n",
      "    Random: 39.549\n",
      "    Greedy: 105.532\n",
      "       SGA: 105.532\n",
      "        FW: 105.532\n",
      "   SmoothG: 105.256\n",
      "----- k = 20 -----\n",
      "    Random: 64.790\n",
      "    Greedy: 134.378\n",
      "       SGA: 134.378\n",
      "        FW: 134.306\n",
      "   SmoothG: 134.357\n",
      "----- k = 40 -----\n",
      "    Random: 103.151\n",
      "    Greedy: 156.005\n",
      "       SGA: 156.005\n",
      "        FW: 155.914\n",
      "   SmoothG: 155.369\n"
     ]
    }
   ],
   "source": [
    "for k in [5, 10, 20, 40]:\n",
    "    print(f\"----- k = {k} -----\")\n",
    "    utility = InfluenceUtility()\n",
    "    constraint = Cardinality(max_cardinality=k)\n",
    "    eval_all(theta, utility, constraint)"
   ]
  },
  {
   "cell_type": "code",
   "execution_count": null,
   "id": "67041ee8-464a-4b26-94a3-0214dfee2ce2",
   "metadata": {},
   "outputs": [],
   "source": []
  },
  {
   "cell_type": "markdown",
   "id": "18fd81f2-945f-4a1f-9cf5-0ada3a868021",
   "metadata": {},
   "source": [
    "### Compare with brute-force (optimal solution) on a small MovieLens Dataset"
   ]
  },
  {
   "cell_type": "code",
   "execution_count": 9,
   "id": "27b4e386-42ab-45db-a83f-89d367fa4464",
   "metadata": {},
   "outputs": [],
   "source": [
    "import itertools\n",
    "\n",
    "\n",
    "def brute_force(utility, all_candidates):\n",
    "    n_items = utility.get_n_items()\n",
    "    combinations = []\n",
    "    opt = torch.tensor(-torch.inf)\n",
    "    batch_size = 10000\n",
    "\n",
    "    def _batch_eval(opt):\n",
    "        S_all = torch.zeros((batch_size, n_items))\n",
    "        _combinations = torch.tensor(combinations)\n",
    "        S_all.scatter_(1, _combinations, 1.0)\n",
    "        utility_all = utility(S_all)\n",
    "        argmax = torch.argmax(utility_all)\n",
    "        S_opt = torch.clone(S_all[argmax])\n",
    "        opt = torch.maximum(opt, utility_all[argmax])\n",
    "        return opt, S_opt\n",
    "\n",
    "    for indices in all_candidates:\n",
    "        combinations.append(indices)\n",
    "        if len(combinations) == batch_size:\n",
    "            opt, _ = _batch_eval(opt)\n",
    "            combinations = []\n",
    "    if combinations:\n",
    "        opt, _ = _batch_eval(opt)\n",
    "    return opt"
   ]
  },
  {
   "cell_type": "code",
   "execution_count": 10,
   "id": "ca839cf2-8013-4e3e-b2a4-edd7993a3202",
   "metadata": {},
   "outputs": [
    {
     "name": "stdout",
     "output_type": "stream",
     "text": [
      "Dataset already exists.\n",
      "Num Movies: 1682, Num Users: 943, Num Ratings:100000\n"
     ]
    },
    {
     "name": "stderr",
     "output_type": "stream",
     "text": [
      "100%|██████████| 1/1 [00:00<00:00, 81.00it/s]\n"
     ]
    }
   ],
   "source": [
    "dataset_small = MovieLensDataset(\n",
    "    DATA_DIR,\n",
    "    DATA_ZIP_PATH,\n",
    "    n_instances=1,\n",
    "    n_movies=30,\n",
    "    n_users=N_USERS,\n",
    "    random_state=RANDOM_STATE,\n",
    ")\n",
    "theta_small = dataset_small[0][1].view(1, 30, N_USERS)"
   ]
  },
  {
   "cell_type": "code",
   "execution_count": 11,
   "id": "f6341237-1f07-46c2-9c88-1cfd29c71397",
   "metadata": {},
   "outputs": [
    {
     "name": "stdout",
     "output_type": "stream",
     "text": [
      "----- k = 1 -----\n",
      "   Optimal: 27.580\n",
      "(1-1/e)Opt: 17.434\n",
      "    Random: 27.580\n",
      "    Greedy: 27.580\n",
      "       SGA: 27.580\n",
      "        FW: 27.580\n",
      "   SmoothG: 27.580\n",
      "----- k = 2 -----\n",
      "   Optimal: 39.097\n",
      "(1-1/e)Opt: 24.714\n",
      "    Random: 27.774\n",
      "    Greedy: 39.097\n",
      "       SGA: 39.097\n",
      "        FW: 39.097\n",
      "   SmoothG: 39.097\n",
      "----- k = 3 -----\n",
      "   Optimal: 47.441\n",
      "(1-1/e)Opt: 29.989\n",
      "    Random: 28.192\n",
      "    Greedy: 47.441\n",
      "       SGA: 47.441\n",
      "        FW: 47.441\n",
      "   SmoothG: 47.441\n",
      "----- k = 4 -----\n",
      "   Optimal: 55.012\n",
      "(1-1/e)Opt: 34.774\n",
      "    Random: 31.301\n",
      "    Greedy: 55.012\n",
      "       SGA: 55.012\n",
      "        FW: 55.012\n",
      "   SmoothG: 55.012\n",
      "----- k = 5 -----\n",
      "   Optimal: 61.082\n",
      "(1-1/e)Opt: 38.611\n",
      "    Random: 39.947\n",
      "    Greedy: 61.082\n",
      "       SGA: 61.082\n",
      "        FW: 61.082\n",
      "   SmoothG: 61.082\n"
     ]
    }
   ],
   "source": [
    "from math import exp\n",
    "\n",
    "for k in [1, 2, 3, 4, 5]:\n",
    "    print(f\"----- k = {k} -----\")\n",
    "    utility = InfluenceUtility()\n",
    "    constraint = Cardinality(max_cardinality=k)\n",
    "    utility.set_params(theta_small)\n",
    "    all_candidates = itertools.combinations(range(utility.get_n_items()), r=k)\n",
    "    optimal = brute_force(utility, all_candidates)\n",
    "    print(f\"   Optimal: {optimal:.3f}\")\n",
    "    print(f\"(1-1/e)Opt: {(1 - 1.0/exp(1))*optimal:.3f}\")\n",
    "    eval_all(theta_small, utility, constraint)"
   ]
  },
  {
   "cell_type": "code",
   "execution_count": null,
   "id": "03339a10-5f62-4c58-b4ec-aff13ae0e933",
   "metadata": {},
   "outputs": [],
   "source": []
  },
  {
   "cell_type": "markdown",
   "id": "9d0c11ce-eb68-45f8-b3b5-58c424c24f3b",
   "metadata": {},
   "source": [
    "## Under the Partition Matroid Constraint"
   ]
  },
  {
   "cell_type": "markdown",
   "id": "30acedcd-0f37-467e-afd3-5ce9375e1d6e",
   "metadata": {},
   "source": [
    "### Greedy, SGA, FW, and SmoothedGreedy perform similarly and are better than Random"
   ]
  },
  {
   "cell_type": "code",
   "execution_count": 12,
   "id": "a6f38789-5120-4c27-90ac-150c629ace78",
   "metadata": {},
   "outputs": [
    {
     "name": "stdout",
     "output_type": "stream",
     "text": [
      "----- k = 1 -----\n",
      "    Random: 31.222\n",
      "    Greedy: 66.597\n",
      "       SGA: 66.597\n",
      "        FW: 66.597\n",
      "   SmoothG: 66.597\n",
      "----- k = 2 -----\n",
      "    Random: 38.648\n",
      "    Greedy: 96.470\n",
      "       SGA: 96.470\n",
      "        FW: 96.470\n",
      "   SmoothG: 96.470\n",
      "----- k = 3 -----\n",
      "    Random: 50.912\n",
      "    Greedy: 116.726\n",
      "       SGA: 116.971\n",
      "        FW: 116.726\n",
      "   SmoothG: 116.726\n",
      "----- k = 4 -----\n",
      "    Random: 55.958\n",
      "    Greedy: 131.233\n",
      "       SGA: 131.233\n",
      "        FW: 131.233\n",
      "   SmoothG: 131.233\n"
     ]
    }
   ],
   "source": [
    "theta = dataset[0][1].view(1, N_MOVIES, N_USERS)\n",
    "n_partition = 5\n",
    "partition = [\n",
    "    [j + i * (N_MOVIES // n_partition) for j in range(N_MOVIES // n_partition)]\n",
    "    for i in range(n_partition)\n",
    "]\n",
    "\n",
    "for k in [1, 2, 3, 4]:\n",
    "    max_cardinalities = [k] * n_partition\n",
    "    print(f\"----- k = {k} -----\")\n",
    "    utility = InfluenceUtility()\n",
    "    constraint = PartitionMatroid(\n",
    "        max_cardinalities=max_cardinalities, partition=partition\n",
    "    )\n",
    "    eval_all(theta, utility, constraint)"
   ]
  },
  {
   "cell_type": "code",
   "execution_count": 13,
   "id": "61a5c1e5-4a33-431f-84e9-2fa508a4f3eb",
   "metadata": {},
   "outputs": [
    {
     "name": "stdout",
     "output_type": "stream",
     "text": [
      "----- k = 1 -----\n",
      "    Random: 10.458\n",
      "    Greedy: 17.507\n",
      "       SGA: 17.500\n",
      "        FW: 17.500\n",
      "   SmoothG: 17.448\n",
      "----- k = 2 -----\n",
      "    Random: 21.251\n",
      "    Greedy: 33.152\n",
      "       SGA: 33.152\n",
      "        FW: 33.152\n",
      "   SmoothG: 32.736\n",
      "----- k = 3 -----\n",
      "    Random: 32.583\n",
      "    Greedy: 47.557\n",
      "       SGA: 47.557\n",
      "        FW: 47.557\n",
      "   SmoothG: 47.351\n",
      "----- k = 4 -----\n",
      "    Random: 43.988\n",
      "    Greedy: 60.933\n",
      "       SGA: 60.916\n",
      "        FW: 60.863\n",
      "   SmoothG: 60.578\n"
     ]
    }
   ],
   "source": [
    "theta = torch.rand(1, N_MOVIES, N_USERS) * 0.2\n",
    "mask = torch.rand(1, N_MOVIES, N_USERS) > 0.95\n",
    "theta *= mask\n",
    "n_partition = 5\n",
    "partition = [\n",
    "    [j + i * (N_MOVIES // n_partition) for j in range(N_MOVIES // n_partition)]\n",
    "    for i in range(n_partition)\n",
    "]\n",
    "\n",
    "for k in [1, 2, 3, 4]:\n",
    "    max_cardinalities = [k] * n_partition\n",
    "    print(f\"----- k = {k} -----\")\n",
    "    utility = InfluenceUtility()\n",
    "    constraint = PartitionMatroid(\n",
    "        max_cardinalities=max_cardinalities, partition=partition\n",
    "    )\n",
    "    eval_all(theta, utility, constraint)"
   ]
  },
  {
   "cell_type": "markdown",
   "id": "56c956a4-fe86-4f57-b9b9-bba9714c4d93",
   "metadata": {},
   "source": [
    "### Compare with brute-force (optimal solution) on a small MovieLens Dataset"
   ]
  },
  {
   "cell_type": "code",
   "execution_count": 14,
   "id": "02c85fe9-099e-4a46-88b9-98c3349c4ddc",
   "metadata": {},
   "outputs": [],
   "source": [
    "from functools import reduce\n",
    "\n",
    "\n",
    "def all_partition_matroid_candidates(max_cardinalities, partition):\n",
    "    iterators = []\n",
    "    for k, p in zip(max_cardinalities, partition):\n",
    "        iterators.append(itertools.combinations(p, r=k))\n",
    "    for indices in itertools.product(*iterators):\n",
    "        yield reduce(lambda x, y: x + y, indices)"
   ]
  },
  {
   "cell_type": "code",
   "execution_count": 15,
   "id": "5858c789-154a-414a-8016-32f8dacd8f81",
   "metadata": {},
   "outputs": [
    {
     "name": "stdout",
     "output_type": "stream",
     "text": [
      "Dataset already exists.\n",
      "Num Movies: 1682, Num Users: 943, Num Ratings:100000\n"
     ]
    },
    {
     "name": "stderr",
     "output_type": "stream",
     "text": [
      "100%|██████████| 1/1 [00:00<00:00, 79.93it/s]\n"
     ]
    }
   ],
   "source": [
    "dataset_small = MovieLensDataset(\n",
    "    DATA_DIR,\n",
    "    DATA_ZIP_PATH,\n",
    "    n_instances=1,\n",
    "    n_movies=35,\n",
    "    n_users=N_USERS,\n",
    "    random_state=RANDOM_STATE,\n",
    ")\n",
    "theta_small = dataset_small[0][1].view(1, 35, N_USERS)"
   ]
  },
  {
   "cell_type": "code",
   "execution_count": 18,
   "id": "5c54f104-458b-4ade-b58f-2c25ea94df14",
   "metadata": {},
   "outputs": [
    {
     "name": "stdout",
     "output_type": "stream",
     "text": [
      "----- k = 1 -----\n",
      "   Optimal: 65.048\n",
      "(1-1/e)Opt: 41.118\n",
      "    Random: 38.391\n",
      "    Greedy: 65.048\n",
      "       SGA: 65.048\n",
      "        FW: 65.048\n",
      "   SmoothG: 65.048\n",
      "----- k = 2 -----\n",
      "   Optimal: 80.324\n",
      "(1-1/e)Opt: 50.775\n",
      "    Random: 60.154\n",
      "    Greedy: 80.324\n",
      "       SGA: 80.324\n",
      "        FW: 80.324\n",
      "   SmoothG: 80.135\n",
      "----- k = 3 -----\n",
      "   Optimal: 88.026\n",
      "(1-1/e)Opt: 55.643\n",
      "    Random: 75.356\n",
      "    Greedy: 88.026\n",
      "       SGA: 88.026\n",
      "        FW: 88.026\n",
      "   SmoothG: 87.910\n"
     ]
    }
   ],
   "source": [
    "n_partition = 7\n",
    "partition = [\n",
    "    [\n",
    "        j + i * (theta_small.shape[1] // n_partition)\n",
    "        for j in range(theta_small.shape[1] // n_partition)\n",
    "    ]\n",
    "    for i in range(n_partition)\n",
    "]\n",
    "for k in [1, 2, 3]:\n",
    "    print(f\"----- k = {k} -----\")\n",
    "    utility = InfluenceUtility()\n",
    "    max_cardinalities = [k] * n_partition\n",
    "    constraint = PartitionMatroid(\n",
    "        max_cardinalities=max_cardinalities, partition=partition\n",
    "    )\n",
    "    utility.set_params(theta_small)\n",
    "    all_candidates = all_partition_matroid_candidates(max_cardinalities, partition)\n",
    "    optimal = brute_force(utility, all_candidates)\n",
    "    print(f\"   Optimal: {optimal:.3f}\")\n",
    "    print(f\"(1-1/e)Opt: {(1 - 1.0/exp(1))*optimal:.3f}\")\n",
    "    eval_all(theta_small, utility, constraint)"
   ]
  },
  {
   "cell_type": "code",
   "execution_count": null,
   "id": "edde7778-f82f-437c-9bd3-abe6536678ff",
   "metadata": {},
   "outputs": [],
   "source": []
  }
 ],
 "metadata": {
  "kernelspec": {
   "display_name": "Python 3",
   "language": "python",
   "name": "python3"
  },
  "language_info": {
   "codemirror_mode": {
    "name": "ipython",
    "version": 3
   },
   "file_extension": ".py",
   "mimetype": "text/x-python",
   "name": "python",
   "nbconvert_exporter": "python",
   "pygments_lexer": "ipython3",
   "version": "3.12.8"
  }
 },
 "nbformat": 4,
 "nbformat_minor": 5
}
